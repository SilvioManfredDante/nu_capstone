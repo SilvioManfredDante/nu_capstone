{
 "cells": [
  {
   "cell_type": "code",
   "execution_count": 1,
   "id": "0c3d0266-dbec-4137-89f0-805a242f000b",
   "metadata": {
    "tags": []
   },
   "outputs": [],
   "source": [
    "import pandas as pd\n",
    "from bertopic import BERTopic\n",
    "from sentence_transformers import SentenceTransformer\n",
    "import matplotlib.pyplot as plt\n",
    "from google.cloud import storage\n",
    "import io"
   ]
  },
  {
   "cell_type": "code",
   "execution_count": 12,
   "id": "97e6caec-a7a1-4e01-ad1c-94d87aac4b55",
   "metadata": {
    "tags": []
   },
   "outputs": [],
   "source": [
    "import re\n",
    "import nltk\n",
    "from nltk.corpus import stopwords"
   ]
  },
  {
   "cell_type": "code",
   "execution_count": 26,
   "id": "dd1a2d18-50d8-49bd-b9d6-3baa899e9d11",
   "metadata": {
    "tags": []
   },
   "outputs": [
    {
     "name": "stdout",
     "output_type": "stream",
     "text": [
      "Downloading dataset from GCS...\n"
     ]
    }
   ],
   "source": [
    "# Set Google Cloud Storage bucket and file path\n",
    "BUCKET_NAME = \"my-bert-topic-model\"\n",
    "FILE_NAME = \"call_transcripts.xlsx\"\n",
    "client = storage.Client()\n",
    "bucket = client.bucket(BUCKET_NAME)\n",
    "blob = bucket.blob(FILE_NAME)\n",
    "print(\"Downloading dataset from GCS...\")\n",
    "data = blob.download_as_bytes()\n",
    "df = pd.read_excel(io.BytesIO(data))"
   ]
  },
  {
   "cell_type": "code",
   "execution_count": 27,
   "id": "c7ac965d-89aa-485c-bddb-a4720a6cf2c5",
   "metadata": {
    "tags": []
   },
   "outputs": [],
   "source": [
    "# Drop empty transcripts\n",
    "df = df.dropna(subset=[\"transcript\"])"
   ]
  },
  {
   "cell_type": "code",
   "execution_count": 28,
   "id": "548974ac-9fd3-4032-b48e-d97ef561ec3c",
   "metadata": {
    "tags": []
   },
   "outputs": [
    {
     "name": "stderr",
     "output_type": "stream",
     "text": [
      "[nltk_data] Downloading package stopwords to\n",
      "[nltk_data]     /home/jupyter/nltk_data...\n",
      "[nltk_data]   Package stopwords is already up-to-date!\n"
     ]
    }
   ],
   "source": [
    "nltk.download(\"stopwords\")\n",
    "stop_words = set(stopwords.words(\"english\"))\n",
    "\n",
    "def clean_text(texts):\n",
    "    text = texts.lower()\n",
    "    text = re.sub(r'\\b(?:' + '|'.join(stop_words) + r')\\b', '', text)\n",
    "    text = re.sub(r'[^a-zA-Z\\s]', '', text)\n",
    "    return text\n",
    "\n",
    "df[\"cleaned_transcript\"] = df[\"transcript\"].apply(clean_text)"
   ]
  },
  {
   "cell_type": "code",
   "execution_count": 29,
   "id": "b4c1807b-5602-44ef-8f8a-fcd9dc50f797",
   "metadata": {
    "tags": []
   },
   "outputs": [],
   "source": [
    "texts = df[\"cleaned_transcript\"].tolist()"
   ]
  },
  {
   "cell_type": "code",
   "execution_count": 30,
   "id": "f197e467-f8fd-48eb-88e3-e0d7c433cd86",
   "metadata": {
    "tags": []
   },
   "outputs": [],
   "source": [
    "embedding_model = SentenceTransformer(\"all-MiniLM-L6-v2\", device=\"cpu\")"
   ]
  },
  {
   "cell_type": "code",
   "execution_count": 31,
   "id": "df0066ce-d594-47a7-b1e4-663ac39ca18d",
   "metadata": {
    "tags": []
   },
   "outputs": [
    {
     "name": "stdout",
     "output_type": "stream",
     "text": [
      "Fitting BERTopic model...\n"
     ]
    }
   ],
   "source": [
    "print(\"Fitting BERTopic model...\")\n",
    "topic_model = BERTopic(embedding_model=embedding_model, language=\"english\")"
   ]
  },
  {
   "cell_type": "code",
   "execution_count": 32,
   "id": "b5c5d091-d17d-41f5-a3d5-060a05e785c6",
   "metadata": {
    "tags": []
   },
   "outputs": [
    {
     "name": "stdout",
     "output_type": "stream",
     "text": [
      "starting transforming texts\n",
      "done transforming texts\n",
      "getting topic info\n",
      "   Topic  Count                                    Name  \\\n",
      "0     -1     22        -1_growth_david_pierre_accenture   \n",
      "1      0     44          0_adi_quarter_industrial_think   \n",
      "2      1     40               1_dram_nand_fiscal_micron   \n",
      "3      2     34       2_constant_currency_azure_windows   \n",
      "4      3     31                 3_nvidia_ai_data_gaming   \n",
      "5      4     31             4_oracle_cloud_database_erp   \n",
      "6      5     30                5_clients_client_peo_adp   \n",
      "7      6     27  6_salesforce_marc_incredible_customers   \n",
      "8      7     26       7_hock_yearyear_semiconductor_tan   \n",
      "9      8     26            8_cisco_kelly_revenue_growth   \n",
      "\n",
      "                                      Representation  \\\n",
      "0  [growth, david, pierre, accenture, quarter, ye...   \n",
      "1  [adi, quarter, industrial, think, vince, prash...   \n",
      "2  [dram, nand, fiscal, micron, demand, bit, indu...   \n",
      "3  [constant, currency, azure, windows, microsoft...   \n",
      "4  [nvidia, ai, data, gaming, center, rtx, comput...   \n",
      "5  [oracle, cloud, database, erp, autonomous, oci...   \n",
      "6  [clients, client, peo, adp, retention, growth,...   \n",
      "7  [salesforce, marc, incredible, customers, cust...   \n",
      "8  [hock, yearyear, semiconductor, tan, billion, ...   \n",
      "9  [cisco, kelly, revenue, growth, security, clou...   \n",
      "\n",
      "                                 Representative_Docs  \n",
      "0  [executives kc mcclure  managing director  hea...  \n",
      "1  [operator good morning  welcome   analog devic...  \n",
      "2  [operator thank   standing welcome  micron fou...  \n",
      "3  [operator greetings  welcome   microsoft fisca...  \n",
      "4  [operator good afternoon  name  david     conf...  \n",
      "5  [operator welcome  oracle first quarter  earni...  \n",
      "6  [operator good morning  name  michelle     con...  \n",
      "7  [operator welcome  salesforce fiscal  third qu...  \n",
      "8  [operator welcome  broadcom inc third quarter ...  \n",
      "9  [executives marilyn mora  directorglobal inves...  \n",
      "done getting topic info\n",
      "creating visualization\n",
      "finished visualization\n",
      "saving visualization\n",
      "saved to storage\n",
      "uploading\n",
      "Visualization uploaded to: gs://my-bert-topic-model/bertopic_visualization.png\n"
     ]
    }
   ],
   "source": [
    "topics, probs = topic_model.fit_transform(texts)\n",
    "print('done transforming texts')\n",
    "\n",
    "topic_info = topic_model.get_topic_info()\n",
    "print(topic_info.head(10))  # Print the top 10 topics\n",
    "print('done getting topic info')\n",
    "\n",
    "fig = topic_model.visualize_barchart(top_n_topics=10)\n",
    "print('finished visualization')\n",
    "\n",
    "fig_path = \"bertopic_visualization.png\"\n",
    "fig.write_image(fig_path)\n",
    "print('saved to storage')\n",
    "\n",
    "blob = bucket.blob(fig_path)\n",
    "blob.upload_from_filename(fig_path)\n",
    "print(f\"Visualization uploaded to: gs://{BUCKET_NAME}/{fig_path}\")"
   ]
  },
  {
   "cell_type": "markdown",
   "id": "f9fa22b9-b5c1-4708-85fe-d059d6ae4572",
   "metadata": {},
   "source": [
    "## TRYING A STRONGER MODEL"
   ]
  },
  {
   "cell_type": "code",
   "execution_count": 33,
   "id": "1a6fbc87-73d5-40db-9ec9-40b2cfe8448d",
   "metadata": {
    "tags": []
   },
   "outputs": [
    {
     "data": {
      "application/vnd.jupyter.widget-view+json": {
       "model_id": "95a9e76fcdab423ea4268a176985ede3",
       "version_major": 2,
       "version_minor": 0
      },
      "text/plain": [
       "modules.json:   0%|          | 0.00/349 [00:00<?, ?B/s]"
      ]
     },
     "metadata": {},
     "output_type": "display_data"
    },
    {
     "data": {
      "application/vnd.jupyter.widget-view+json": {
       "model_id": "ecaeead43f324c5a940e5448fd2e885a",
       "version_major": 2,
       "version_minor": 0
      },
      "text/plain": [
       "config_sentence_transformers.json:   0%|          | 0.00/116 [00:00<?, ?B/s]"
      ]
     },
     "metadata": {},
     "output_type": "display_data"
    },
    {
     "data": {
      "application/vnd.jupyter.widget-view+json": {
       "model_id": "53708d6edeb340a2b038ae13a25b46e0",
       "version_major": 2,
       "version_minor": 0
      },
      "text/plain": [
       "README.md:   0%|          | 0.00/10.6k [00:00<?, ?B/s]"
      ]
     },
     "metadata": {},
     "output_type": "display_data"
    },
    {
     "data": {
      "application/vnd.jupyter.widget-view+json": {
       "model_id": "19574106a88546898023c44faf35889b",
       "version_major": 2,
       "version_minor": 0
      },
      "text/plain": [
       "sentence_bert_config.json:   0%|          | 0.00/53.0 [00:00<?, ?B/s]"
      ]
     },
     "metadata": {},
     "output_type": "display_data"
    },
    {
     "data": {
      "application/vnd.jupyter.widget-view+json": {
       "model_id": "adc1952f75464df09f7249f352e52d9e",
       "version_major": 2,
       "version_minor": 0
      },
      "text/plain": [
       "config.json:   0%|          | 0.00/571 [00:00<?, ?B/s]"
      ]
     },
     "metadata": {},
     "output_type": "display_data"
    },
    {
     "data": {
      "application/vnd.jupyter.widget-view+json": {
       "model_id": "55f5423cc47b45cfa60e957fcdcd3116",
       "version_major": 2,
       "version_minor": 0
      },
      "text/plain": [
       "model.safetensors:   0%|          | 0.00/438M [00:00<?, ?B/s]"
      ]
     },
     "metadata": {},
     "output_type": "display_data"
    },
    {
     "data": {
      "application/vnd.jupyter.widget-view+json": {
       "model_id": "ceddd6cf98284f9b83cb91d86307775e",
       "version_major": 2,
       "version_minor": 0
      },
      "text/plain": [
       "tokenizer_config.json:   0%|          | 0.00/363 [00:00<?, ?B/s]"
      ]
     },
     "metadata": {},
     "output_type": "display_data"
    },
    {
     "data": {
      "application/vnd.jupyter.widget-view+json": {
       "model_id": "67684e57d7bc453584fa59d5ca0f4c23",
       "version_major": 2,
       "version_minor": 0
      },
      "text/plain": [
       "vocab.txt:   0%|          | 0.00/232k [00:00<?, ?B/s]"
      ]
     },
     "metadata": {},
     "output_type": "display_data"
    },
    {
     "data": {
      "application/vnd.jupyter.widget-view+json": {
       "model_id": "7e64d5b7995e41928520f8a1f39b63cc",
       "version_major": 2,
       "version_minor": 0
      },
      "text/plain": [
       "tokenizer.json:   0%|          | 0.00/466k [00:00<?, ?B/s]"
      ]
     },
     "metadata": {},
     "output_type": "display_data"
    },
    {
     "data": {
      "application/vnd.jupyter.widget-view+json": {
       "model_id": "c91a521204504319a33ddf7dac6325fa",
       "version_major": 2,
       "version_minor": 0
      },
      "text/plain": [
       "special_tokens_map.json:   0%|          | 0.00/239 [00:00<?, ?B/s]"
      ]
     },
     "metadata": {},
     "output_type": "display_data"
    },
    {
     "data": {
      "application/vnd.jupyter.widget-view+json": {
       "model_id": "75d33e92a3f047089ead52ec65649d7a",
       "version_major": 2,
       "version_minor": 0
      },
      "text/plain": [
       "1_Pooling%2Fconfig.json:   0%|          | 0.00/190 [00:00<?, ?B/s]"
      ]
     },
     "metadata": {},
     "output_type": "display_data"
    },
    {
     "name": "stdout",
     "output_type": "stream",
     "text": [
      "Fitting BERTopic model...\n"
     ]
    }
   ],
   "source": [
    "embedding_model = SentenceTransformer(\"all-mpnet-base-v2\", device=\"cpu\")\n",
    "print(\"Fitting BERTopic model...\")\n",
    "topic_model = BERTopic(embedding_model=embedding_model, language=\"english\")"
   ]
  },
  {
   "cell_type": "code",
   "execution_count": 35,
   "id": "64e738da-1edb-4c79-b7fd-220328618f8c",
   "metadata": {
    "tags": []
   },
   "outputs": [
    {
     "name": "stdout",
     "output_type": "stream",
     "text": [
      "done transforming texts\n",
      "   Topic  Count                                  Name  \\\n",
      "0     -1     14             -1_automatic_adp_year_inc   \n",
      "1      0     57   0_salesforce_marc_customers_quarter   \n",
      "2      1     40        1_adi_quarter_industrial_think   \n",
      "3      2     40             2_dram_nand_fiscal_micron   \n",
      "4      3     40  3_constant_currency_azure_commercial   \n",
      "5      4     40            4_dave_pahl_rafael_quarter   \n",
      "6      5     29              5_client_clients_peo_adp   \n",
      "7      6     26       6_chuck_cisco_product_customers   \n",
      "8      7     25           7_oracle_database_cloud_erp   \n",
      "9      8     24   8_adobe_digital_creative_experience   \n",
      "\n",
      "                                      Representation  \\\n",
      "0  [automatic, adp, year, inc, processing, carlos...   \n",
      "1  [salesforce, marc, customers, quarter, incredi...   \n",
      "2  [adi, quarter, industrial, think, vince, roche...   \n",
      "3  [dram, nand, fiscal, micron, demand, bit, indu...   \n",
      "4  [constant, currency, azure, commercial, revenu...   \n",
      "5  [dave, pahl, rafael, quarter, inventory, cash,...   \n",
      "6  [client, clients, peo, adp, retention, growth,...   \n",
      "7  [chuck, cisco, product, customers, orders, gro...   \n",
      "8  [oracle, database, cloud, erp, autonomous, saf...   \n",
      "9  [adobe, digital, creative, experience, cloud, ...   \n",
      "\n",
      "                                 Representative_Docs  \n",
      "0  [executives christian greyenbuhl  automatic da...  \n",
      "1  [operator good day  name  victoria      confer...  \n",
      "2  [operator good morning  welcome   analog devic...  \n",
      "3  [operator thank   standing welcome  micron fou...  \n",
      "4  [operator ladies  gentlemen thank   standing  ...  \n",
      "5  [operator good day  welcome   texas instrument...  \n",
      "6  [operator good morning  name  michelle     con...  \n",
      "7  [operator welcome  cisco fourth quarter  fisca...  \n",
      "8  [operator good afternoon thank   standing  wel...  \n",
      "9  [operator good day  welcome   q  fy adobe earn...  \n",
      "done getting topic info\n",
      "finished visualization\n",
      "saved to storage\n",
      "Visualization uploaded to: gs://my-bert-topic-model/bertopic_visualization_mpnet.png\n"
     ]
    }
   ],
   "source": [
    "topics, probs = topic_model.fit_transform(texts)\n",
    "print('done transforming texts')\n",
    "\n",
    "topic_info = topic_model.get_topic_info()\n",
    "print(topic_info.head(10))  # Print the top 10 topics\n",
    "print('done getting topic info')\n",
    "\n",
    "fig = topic_model.visualize_barchart(top_n_topics=10)\n",
    "print('finished visualization')\n",
    "\n",
    "fig_path = \"bertopic_visualization_mpnet.png\"\n",
    "fig.write_image(fig_path)\n",
    "print('saved to storage')\n",
    "\n",
    "blob = bucket.blob(fig_path)\n",
    "blob.upload_from_filename(fig_path)\n",
    "print(f\"Visualization uploaded to: gs://{BUCKET_NAME}/{fig_path}\")"
   ]
  },
  {
   "cell_type": "code",
   "execution_count": null,
   "id": "aa48919c-40ef-4373-aad6-c48e8b256c1c",
   "metadata": {},
   "outputs": [],
   "source": []
  }
 ],
 "metadata": {
  "environment": {
   "kernel": "conda-base-py",
   "name": "workbench-notebooks.m128",
   "type": "gcloud",
   "uri": "us-docker.pkg.dev/deeplearning-platform-release/gcr.io/workbench-notebooks:m128"
  },
  "kernelspec": {
   "display_name": "Python 3 (ipykernel)",
   "language": "python",
   "name": "conda-base-py"
  },
  "language_info": {
   "codemirror_mode": {
    "name": "ipython",
    "version": 3
   },
   "file_extension": ".py",
   "mimetype": "text/x-python",
   "name": "python",
   "nbconvert_exporter": "python",
   "pygments_lexer": "ipython3",
   "version": "3.10.16"
  }
 },
 "nbformat": 4,
 "nbformat_minor": 5
}
