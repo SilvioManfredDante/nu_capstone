{
 "cells": [
  {
   "cell_type": "code",
   "execution_count": 2,
   "metadata": {},
   "outputs": [
    {
     "name": "stdout",
     "output_type": "stream",
     "text": [
      "Collecting yahooquery\n",
      "  Downloading yahooquery-2.3.7-py3-none-any.whl.metadata (5.0 kB)\n",
      "Requirement already satisfied: beautifulsoup4<5.0.0,>=4.12.2 in /usr/local/lib/python3.11/site-packages (from yahooquery) (4.12.3)\n",
      "Collecting lxml<5.0.0,>=4.9.3 (from yahooquery)\n",
      "  Downloading lxml-4.9.4-cp311-cp311-macosx_11_0_universal2.whl.metadata (3.7 kB)\n",
      "Requirement already satisfied: pandas<3.0.0,>=2.0.3 in /usr/local/lib/python3.11/site-packages (from yahooquery) (2.2.3)\n",
      "Requirement already satisfied: requests<3.0.0,>=2.31.0 in /usr/local/lib/python3.11/site-packages (from yahooquery) (2.32.3)\n",
      "Collecting requests-futures<2.0.0,>=1.0.1 (from yahooquery)\n",
      "  Downloading requests_futures-1.0.2-py2.py3-none-any.whl.metadata (12 kB)\n",
      "Requirement already satisfied: tqdm<5.0.0,>=4.65.0 in /usr/local/lib/python3.11/site-packages (from yahooquery) (4.67.1)\n",
      "Requirement already satisfied: soupsieve>1.2 in /usr/local/lib/python3.11/site-packages (from beautifulsoup4<5.0.0,>=4.12.2->yahooquery) (2.6)\n",
      "Requirement already satisfied: numpy>=1.23.2 in /usr/local/lib/python3.11/site-packages (from pandas<3.0.0,>=2.0.3->yahooquery) (1.26.4)\n",
      "Requirement already satisfied: python-dateutil>=2.8.2 in /Users/LVal18/Library/Python/3.11/lib/python/site-packages (from pandas<3.0.0,>=2.0.3->yahooquery) (2.9.0.post0)\n",
      "Requirement already satisfied: pytz>=2020.1 in /usr/local/lib/python3.11/site-packages (from pandas<3.0.0,>=2.0.3->yahooquery) (2024.2)\n",
      "Requirement already satisfied: tzdata>=2022.7 in /usr/local/lib/python3.11/site-packages (from pandas<3.0.0,>=2.0.3->yahooquery) (2025.1)\n",
      "Requirement already satisfied: charset-normalizer<4,>=2 in /usr/local/lib/python3.11/site-packages (from requests<3.0.0,>=2.31.0->yahooquery) (3.4.1)\n",
      "Requirement already satisfied: idna<4,>=2.5 in /usr/local/lib/python3.11/site-packages (from requests<3.0.0,>=2.31.0->yahooquery) (3.10)\n",
      "Requirement already satisfied: urllib3<3,>=1.21.1 in /usr/local/lib/python3.11/site-packages (from requests<3.0.0,>=2.31.0->yahooquery) (2.3.0)\n",
      "Requirement already satisfied: certifi>=2017.4.17 in /usr/local/lib/python3.11/site-packages (from requests<3.0.0,>=2.31.0->yahooquery) (2024.12.14)\n",
      "Requirement already satisfied: six>=1.5 in /Users/LVal18/Library/Python/3.11/lib/python/site-packages (from python-dateutil>=2.8.2->pandas<3.0.0,>=2.0.3->yahooquery) (1.17.0)\n",
      "Downloading yahooquery-2.3.7-py3-none-any.whl (52 kB)\n",
      "Downloading lxml-4.9.4-cp311-cp311-macosx_11_0_universal2.whl (8.6 MB)\n",
      "\u001b[2K   \u001b[90m━━━━━━━━━━━━━━━━━━━━━━━━━━━━━━━━━━━━━━━━\u001b[0m \u001b[32m8.6/8.6 MB\u001b[0m \u001b[31m11.1 MB/s\u001b[0m eta \u001b[36m0:00:00\u001b[0ma \u001b[36m0:00:01\u001b[0m\n",
      "\u001b[?25hDownloading requests_futures-1.0.2-py2.py3-none-any.whl (7.7 kB)\n",
      "Installing collected packages: lxml, requests-futures, yahooquery\n",
      "  Attempting uninstall: lxml\n",
      "    Found existing installation: lxml 5.3.0\n",
      "    Uninstalling lxml-5.3.0:\n",
      "      Successfully uninstalled lxml-5.3.0\n",
      "Successfully installed lxml-4.9.4 requests-futures-1.0.2 yahooquery-2.3.7\n",
      "\n",
      "\u001b[1m[\u001b[0m\u001b[34;49mnotice\u001b[0m\u001b[1;39;49m]\u001b[0m\u001b[39;49m A new release of pip is available: \u001b[0m\u001b[31;49m24.2\u001b[0m\u001b[39;49m -> \u001b[0m\u001b[32;49m24.3.1\u001b[0m\n",
      "\u001b[1m[\u001b[0m\u001b[34;49mnotice\u001b[0m\u001b[1;39;49m]\u001b[0m\u001b[39;49m To update, run: \u001b[0m\u001b[32;49mpython3.11 -m pip install --upgrade pip\u001b[0m\n",
      "Note: you may need to restart the kernel to use updated packages.\n"
     ]
    }
   ],
   "source": [
    "%pip install yahooquery"
   ]
  },
  {
   "cell_type": "code",
   "execution_count": null,
   "metadata": {},
   "outputs": [],
   "source": [
    "import requests\n",
    "from bs4 import BeautifulSoup\n",
    "import pandas as pd\n",
    "\n",
    "# URL of the webpage containing the table\n",
    "url = \"https://www.slickcharts.com/sp500\"\n",
    "request_headers = {\n",
    "    'user-agent': 'Mozilla/5.0 (Windows NT 10.0; Win64; x64) AppleWebKit/537.36 (KHTML, like Gecko) Chrome/91.0.4472.124 Safari/537.36'\n",
    "}\n",
    "\n",
    "# Send an HTTP request to fetch the webpage content\n",
    "response = requests.get(url,headers=request_headers)\n",
    "if response.status_code == 200:\n",
    "    soup = BeautifulSoup(response.content, 'html.parser')\n",
    "    \n",
    "    # Find the table within the div with class 'table-responsive'\n",
    "    table_div = soup.find(\"div\", class_=\"table-responsive\")\n",
    "    if table_div:\n",
    "        table = table_div.find(\"table\")\n",
    "        \n",
    "        # Extract table headers\n",
    "        headers = [th.text.strip() for th in table.find(\"thead\").find_all(\"th\")]\n",
    "\n",
    "        # Extract table rows\n",
    "        rows = []\n",
    "        for tr in table.find(\"tbody\").find_all(\"tr\"):\n",
    "            row = [td.text.strip() for td in tr.find_all(\"td\")]\n",
    "            rows.append(row)\n",
    "        \n",
    "        # Create a DataFrame\n",
    "        sp500_df = pd.DataFrame(rows, columns=headers)\n",
    "        print(sp500_df)\n",
    "    else:\n",
    "        print(\"Table not found in the specified div.\")\n",
    "else:\n",
    "    print(f\"Failed to fetch webpage. Status code: {response.status_code}\")"
   ]
  },
  {
   "cell_type": "code",
   "execution_count": 4,
   "metadata": {},
   "outputs": [
    {
     "name": "stdout",
     "output_type": "stream",
     "text": [
      "Error fetching data for BLK: HTTPSConnectionPool(host='query2.finance.yahoo.com', port=443): Read timed out. (read timeout=30)\n"
     ]
    },
    {
     "name": "stderr",
     "output_type": "stream",
     "text": [
      "503 Server Error: Service Unavailable for url: https://query2.finance.yahoo.com/v10/finance/quoteSummary/WM?modules=financialData%2CquoteType%2CdefaultKeyStatistics%2CassetProfile%2CsummaryDetail&corsDomain=finance.yahoo.com&formatted=false&symbol=WM&crumb=pLSVQM.%2Fbcq\n"
     ]
    },
    {
     "name": "stdout",
     "output_type": "stream",
     "text": [
      "Error fetching data for COF: Expecting value: line 1 column 1 (char 0)\n"
     ]
    },
    {
     "name": "stderr",
     "output_type": "stream",
     "text": [
      "503 Server Error: Service Unavailable for url: https://query2.finance.yahoo.com/v10/finance/quoteSummary/TDG?modules=financialData%2CquoteType%2CdefaultKeyStatistics%2CassetProfile%2CsummaryDetail&corsDomain=finance.yahoo.com&formatted=false&symbol=TDG&crumb=pLSVQM.%2Fbcq\n"
     ]
    },
    {
     "name": "stdout",
     "output_type": "stream",
     "text": [
      "Error fetching data for TDG: Expecting value: line 1 column 1 (char 0)\n"
     ]
    },
    {
     "name": "stderr",
     "output_type": "stream",
     "text": [
      "503 Server Error: Service Unavailable for url: https://query2.finance.yahoo.com/v10/finance/quoteSummary/USB?modules=financialData%2CquoteType%2CdefaultKeyStatistics%2CassetProfile%2CsummaryDetail&corsDomain=finance.yahoo.com&formatted=false&symbol=USB&crumb=pLSVQM.%2Fbcq\n",
      "503 Server Error: Service Unavailable for url: https://query2.finance.yahoo.com/v10/finance/quoteSummary/MCO?modules=financialData%2CquoteType%2CdefaultKeyStatistics%2CassetProfile%2CsummaryDetail&corsDomain=finance.yahoo.com&formatted=false&symbol=MCO&crumb=pLSVQM.%2Fbcq\n",
      "503 Server Error: Service Unavailable for url: https://query2.finance.yahoo.com/v10/finance/quoteSummary/APO?modules=financialData%2CquoteType%2CdefaultKeyStatistics%2CassetProfile%2CsummaryDetail&corsDomain=finance.yahoo.com&formatted=false&symbol=APO&crumb=pLSVQM.%2Fbcq\n"
     ]
    },
    {
     "name": "stdout",
     "output_type": "stream",
     "text": [
      "Error fetching data for MDLZ: Expecting value: line 1 column 1 (char 0)\n"
     ]
    },
    {
     "name": "stderr",
     "output_type": "stream",
     "text": [
      "503 Server Error: Service Unavailable for url: https://query2.finance.yahoo.com/v10/finance/quoteSummary/ZTS?modules=financialData%2CquoteType%2CdefaultKeyStatistics%2CassetProfile%2CsummaryDetail&corsDomain=finance.yahoo.com&formatted=false&symbol=ZTS&crumb=pLSVQM.%2Fbcq\n",
      "503 Server Error: Service Unavailable for url: https://query2.finance.yahoo.com/v10/finance/quoteSummary/MCK?modules=financialData%2CquoteType%2CdefaultKeyStatistics%2CassetProfile%2CsummaryDetail&corsDomain=finance.yahoo.com&formatted=false&symbol=MCK&crumb=pLSVQM.%2Fbcq\n",
      "503 Server Error: Service Unavailable for url: https://query2.finance.yahoo.com/v10/finance/quoteSummary/EMR?modules=financialData%2CquoteType%2CdefaultKeyStatistics%2CassetProfile%2CsummaryDetail&corsDomain=finance.yahoo.com&formatted=false&symbol=EMR&crumb=pLSVQM.%2Fbcq\n",
      "503 Server Error: Service Unavailable for url: https://query2.finance.yahoo.com/v10/finance/quoteSummary/AJG?modules=financialData%2CquoteType%2CdefaultKeyStatistics%2CassetProfile%2CsummaryDetail&corsDomain=finance.yahoo.com&formatted=false&symbol=AJG&crumb=pLSVQM.%2Fbcq\n"
     ]
    },
    {
     "name": "stdout",
     "output_type": "stream",
     "text": [
      "Error fetching data for AJG: Expecting value: line 1 column 1 (char 0)\n"
     ]
    },
    {
     "name": "stderr",
     "output_type": "stream",
     "text": [
      "503 Server Error: Service Unavailable for url: https://query2.finance.yahoo.com/v10/finance/quoteSummary/WMB?modules=financialData%2CquoteType%2CdefaultKeyStatistics%2CassetProfile%2CsummaryDetail&corsDomain=finance.yahoo.com&formatted=false&symbol=WMB&crumb=pLSVQM.%2Fbcq\n"
     ]
    },
    {
     "name": "stdout",
     "output_type": "stream",
     "text": [
      "Error fetching data for WMB: Expecting value: line 1 column 1 (char 0)\n"
     ]
    },
    {
     "name": "stderr",
     "output_type": "stream",
     "text": [
      "503 Server Error: Service Unavailable for url: https://query2.finance.yahoo.com/v10/finance/quoteSummary/ORLY?modules=financialData%2CquoteType%2CdefaultKeyStatistics%2CassetProfile%2CsummaryDetail&corsDomain=finance.yahoo.com&formatted=false&symbol=ORLY&crumb=pLSVQM.%2Fbcq\n"
     ]
    },
    {
     "name": "stdout",
     "output_type": "stream",
     "text": [
      "Error fetching data for ORLY: Expecting value: line 1 column 1 (char 0)\n"
     ]
    },
    {
     "name": "stderr",
     "output_type": "stream",
     "text": [
      "503 Server Error: Service Unavailable for url: https://query2.finance.yahoo.com/v10/finance/quoteSummary/REGN?modules=financialData%2CquoteType%2CdefaultKeyStatistics%2CassetProfile%2CsummaryDetail&corsDomain=finance.yahoo.com&formatted=false&symbol=REGN&crumb=pLSVQM.%2Fbcq\n"
     ]
    },
    {
     "name": "stdout",
     "output_type": "stream",
     "text": [
      "Error fetching data for APD: Expecting value: line 1 column 1 (char 0)\n"
     ]
    },
    {
     "name": "stderr",
     "output_type": "stream",
     "text": [
      "503 Server Error: Service Unavailable for url: https://query2.finance.yahoo.com/v10/finance/quoteSummary/ITW?modules=financialData%2CquoteType%2CdefaultKeyStatistics%2CassetProfile%2CsummaryDetail&corsDomain=finance.yahoo.com&formatted=false&symbol=ITW&crumb=pLSVQM.%2Fbcq\n",
      "503 Server Error: Service Unavailable for url: https://query2.finance.yahoo.com/v10/finance/quoteSummary/GD?modules=financialData%2CquoteType%2CdefaultKeyStatistics%2CassetProfile%2CsummaryDetail&corsDomain=finance.yahoo.com&formatted=false&symbol=GD&crumb=pLSVQM.%2Fbcq\n",
      "503 Server Error: Service Unavailable for url: https://query2.finance.yahoo.com/v10/finance/quoteSummary/BDX?modules=financialData%2CquoteType%2CdefaultKeyStatistics%2CassetProfile%2CsummaryDetail&corsDomain=finance.yahoo.com&formatted=false&symbol=BDX&crumb=pLSVQM.%2Fbcq\n"
     ]
    },
    {
     "name": "stdout",
     "output_type": "stream",
     "text": [
      "Error fetching data for BDX: Expecting value: line 1 column 1 (char 0)\n"
     ]
    },
    {
     "name": "stderr",
     "output_type": "stream",
     "text": [
      "503 Server Error: Service Unavailable for url: https://query2.finance.yahoo.com/v10/finance/quoteSummary/CTAS?modules=financialData%2CquoteType%2CdefaultKeyStatistics%2CassetProfile%2CsummaryDetail&corsDomain=finance.yahoo.com&formatted=false&symbol=CTAS&crumb=pLSVQM.%2Fbcq\n",
      "503 Server Error: Service Unavailable for url: https://query2.finance.yahoo.com/v10/finance/quoteSummary/CVS?modules=financialData%2CquoteType%2CdefaultKeyStatistics%2CassetProfile%2CsummaryDetail&corsDomain=finance.yahoo.com&formatted=false&symbol=CVS&crumb=pLSVQM.%2Fbcq\n",
      "503 Server Error: Service Unavailable for url: https://query2.finance.yahoo.com/v10/finance/quoteSummary/ADSK?modules=financialData%2CquoteType%2CdefaultKeyStatistics%2CassetProfile%2CsummaryDetail&corsDomain=finance.yahoo.com&formatted=false&symbol=ADSK&crumb=pLSVQM.%2Fbcq\n",
      "503 Server Error: Service Unavailable for url: https://query2.finance.yahoo.com/v10/finance/quoteSummary/MAR?modules=financialData%2CquoteType%2CdefaultKeyStatistics%2CassetProfile%2CsummaryDetail&corsDomain=finance.yahoo.com&formatted=false&symbol=MAR&crumb=pLSVQM.%2Fbcq\n",
      "503 Server Error: Service Unavailable for url: https://query2.finance.yahoo.com/v10/finance/quoteSummary/CSX?modules=financialData%2CquoteType%2CdefaultKeyStatistics%2CassetProfile%2CsummaryDetail&corsDomain=finance.yahoo.com&formatted=false&symbol=CSX&crumb=pLSVQM.%2Fbcq\n"
     ]
    },
    {
     "name": "stdout",
     "output_type": "stream",
     "text": [
      "Error fetching data for TFC: HTTPSConnectionPool(host='query2.finance.yahoo.com', port=443): Read timed out. (read timeout=30)\n",
      "Error fetching data for HLT: Expecting value: line 1 column 1 (char 0)\n",
      "Error fetching data for KMI: Expecting value: line 1 column 1 (char 0)\n",
      "Error fetching data for RMD: Expecting value: line 1 column 1 (char 0)\n",
      "Error fetching data for VMC: Expecting value: line 1 column 1 (char 0)\n",
      "Error fetching data for UAL: Expecting value: line 1 column 1 (char 0)\n",
      "Error fetching data for ODFL: Expecting value: line 1 column 1 (char 0)\n",
      "Error fetching data for KDP: Expecting value: line 1 column 1 (char 0)\n",
      "Error fetching data for IQV: Expecting value: line 1 column 1 (char 0)\n",
      "Error fetching data for ETR: Expecting value: line 1 column 1 (char 0)\n",
      "Error fetching data for EXR: Expecting value: line 1 column 1 (char 0)\n",
      "Error fetching data for CHD: Expecting value: line 1 column 1 (char 0)\n",
      "Error fetching data for NTAP: Expecting value: line 1 column 1 (char 0)\n",
      "Error fetching data for HSY: Expecting value: line 1 column 1 (char 0)\n",
      "Error fetching data for PKG: Expecting value: line 1 column 1 (char 0)\n",
      "Error fetching data for EXPE: Expecting value: line 1 column 1 (char 0)\n",
      "Error fetching data for IP: Expecting value: line 1 column 1 (char 0)\n",
      "Error fetching data for LYB: Expecting value: line 1 column 1 (char 0)\n",
      "Error fetching data for CMS: Expecting value: line 1 column 1 (char 0)\n",
      "Error fetching data for ULTA: Expecting value: line 1 column 1 (char 0)\n",
      "Error fetching data for CLX: Expecting value: line 1 column 1 (char 0)\n",
      "Error fetching data for INVH: Expecting value: line 1 column 1 (char 0)\n",
      "Error fetching data for PNR: Expecting value: line 1 column 1 (char 0)\n",
      "Error fetching data for MAA: Expecting value: line 1 column 1 (char 0)\n",
      "Error fetching data for PFG: Expecting value: line 1 column 1 (char 0)\n",
      "Error fetching data for VRSN: Expecting value: line 1 column 1 (char 0)\n",
      "Error fetching data for TPR: Expecting value: line 1 column 1 (char 0)\n",
      "Error fetching data for SMCI: Expecting value: line 1 column 1 (char 0)\n",
      "Error fetching data for DAY: Expecting value: line 1 column 1 (char 0)\n",
      "Error fetching data for BG: Expecting value: line 1 column 1 (char 0)\n"
     ]
    },
    {
     "name": "stderr",
     "output_type": "stream",
     "text": [
      "404 Client Error: Not Found for url: https://query2.finance.yahoo.com/v10/finance/quoteSummary/MRP-W?modules=financialData%2CquoteType%2CdefaultKeyStatistics%2CassetProfile%2CsummaryDetail&corsDomain=finance.yahoo.com&formatted=false&symbol=MRP-W&crumb=pLSVQM.%2Fbcq\n"
     ]
    },
    {
     "data": {
      "text/html": [
       "<div>\n",
       "<style scoped>\n",
       "    .dataframe tbody tr th:only-of-type {\n",
       "        vertical-align: middle;\n",
       "    }\n",
       "\n",
       "    .dataframe tbody tr th {\n",
       "        vertical-align: top;\n",
       "    }\n",
       "\n",
       "    .dataframe thead th {\n",
       "        text-align: right;\n",
       "    }\n",
       "</style>\n",
       "<table border=\"1\" class=\"dataframe\">\n",
       "  <thead>\n",
       "    <tr style=\"text-align: right;\">\n",
       "      <th></th>\n",
       "      <th>#</th>\n",
       "      <th>Company</th>\n",
       "      <th>Symbol</th>\n",
       "      <th>Weight</th>\n",
       "      <th>Price</th>\n",
       "      <th>Chg</th>\n",
       "      <th>% Chg</th>\n",
       "      <th>Sector</th>\n",
       "    </tr>\n",
       "  </thead>\n",
       "  <tbody>\n",
       "    <tr>\n",
       "      <th>0</th>\n",
       "      <td>1</td>\n",
       "      <td>Nvidia Corp</td>\n",
       "      <td>NVDA</td>\n",
       "      <td>6.99%</td>\n",
       "      <td>147.22</td>\n",
       "      <td>0.15</td>\n",
       "      <td>(0.10%)</td>\n",
       "      <td>Technology</td>\n",
       "    </tr>\n",
       "    <tr>\n",
       "      <th>1</th>\n",
       "      <td>2</td>\n",
       "      <td>Apple Inc.</td>\n",
       "      <td>AAPL</td>\n",
       "      <td>6.56%</td>\n",
       "      <td>223.66</td>\n",
       "      <td>-0.17</td>\n",
       "      <td>(-0.08%)</td>\n",
       "      <td>Technology</td>\n",
       "    </tr>\n",
       "    <tr>\n",
       "      <th>2</th>\n",
       "      <td>3</td>\n",
       "      <td>Microsoft Corp</td>\n",
       "      <td>MSFT</td>\n",
       "      <td>6.43%</td>\n",
       "      <td>446.71</td>\n",
       "      <td>0.51</td>\n",
       "      <td>(0.11%)</td>\n",
       "      <td>Technology</td>\n",
       "    </tr>\n",
       "    <tr>\n",
       "      <th>3</th>\n",
       "      <td>4</td>\n",
       "      <td>Amazon.com Inc</td>\n",
       "      <td>AMZN</td>\n",
       "      <td>4.26%</td>\n",
       "      <td>235.42</td>\n",
       "      <td>0.41</td>\n",
       "      <td>(0.17%)</td>\n",
       "      <td>Consumer Cyclical</td>\n",
       "    </tr>\n",
       "    <tr>\n",
       "      <th>4</th>\n",
       "      <td>5</td>\n",
       "      <td>Meta Platforms, Inc. Class A</td>\n",
       "      <td>META</td>\n",
       "      <td>2.64%</td>\n",
       "      <td>636.45</td>\n",
       "      <td>12.95</td>\n",
       "      <td>(2.08%)</td>\n",
       "      <td>Communication Services</td>\n",
       "    </tr>\n",
       "    <tr>\n",
       "      <th>...</th>\n",
       "      <td>...</td>\n",
       "      <td>...</td>\n",
       "      <td>...</td>\n",
       "      <td>...</td>\n",
       "      <td>...</td>\n",
       "      <td>...</td>\n",
       "      <td>...</td>\n",
       "      <td>...</td>\n",
       "    </tr>\n",
       "    <tr>\n",
       "      <th>499</th>\n",
       "      <td>500</td>\n",
       "      <td>Franklin Resources, Inc.</td>\n",
       "      <td>BEN</td>\n",
       "      <td>0.01%</td>\n",
       "      <td>19.99</td>\n",
       "      <td>0.12</td>\n",
       "      <td>(0.60%)</td>\n",
       "      <td>Financial Services</td>\n",
       "    </tr>\n",
       "    <tr>\n",
       "      <th>500</th>\n",
       "      <td>501</td>\n",
       "      <td>Fox Corporation Class B</td>\n",
       "      <td>FOX</td>\n",
       "      <td>0.01%</td>\n",
       "      <td>46.03</td>\n",
       "      <td>0.25</td>\n",
       "      <td>(0.55%)</td>\n",
       "      <td>Communication Services</td>\n",
       "    </tr>\n",
       "    <tr>\n",
       "      <th>501</th>\n",
       "      <td>502</td>\n",
       "      <td>Brown-Forman Corporation Class B</td>\n",
       "      <td>BF.B</td>\n",
       "      <td>0.01%</td>\n",
       "      <td>33.15</td>\n",
       "      <td>0.12</td>\n",
       "      <td>(0.36%)</td>\n",
       "      <td>Unknown</td>\n",
       "    </tr>\n",
       "    <tr>\n",
       "      <th>502</th>\n",
       "      <td>503</td>\n",
       "      <td>News Corporation Class B</td>\n",
       "      <td>NWS</td>\n",
       "      <td>0.01%</td>\n",
       "      <td>31.33</td>\n",
       "      <td>0.21</td>\n",
       "      <td>(0.67%)</td>\n",
       "      <td>Communication Services</td>\n",
       "    </tr>\n",
       "    <tr>\n",
       "      <th>503</th>\n",
       "      <td>504</td>\n",
       "      <td>Symbol Not Found</td>\n",
       "      <td>MRP-W</td>\n",
       "      <td>0.00%</td>\n",
       "      <td>NaN</td>\n",
       "      <td>NaN</td>\n",
       "      <td>(NaN%)</td>\n",
       "      <td>Unknown</td>\n",
       "    </tr>\n",
       "  </tbody>\n",
       "</table>\n",
       "<p>504 rows × 8 columns</p>\n",
       "</div>"
      ],
      "text/plain": [
       "       #                           Company Symbol Weight   Price    Chg  \\\n",
       "0      1                       Nvidia Corp   NVDA  6.99%  147.22   0.15   \n",
       "1      2                        Apple Inc.   AAPL  6.56%  223.66  -0.17   \n",
       "2      3                    Microsoft Corp   MSFT  6.43%  446.71   0.51   \n",
       "3      4                    Amazon.com Inc   AMZN  4.26%  235.42   0.41   \n",
       "4      5      Meta Platforms, Inc. Class A   META  2.64%  636.45  12.95   \n",
       "..   ...                               ...    ...    ...     ...    ...   \n",
       "499  500          Franklin Resources, Inc.    BEN  0.01%   19.99   0.12   \n",
       "500  501           Fox Corporation Class B    FOX  0.01%   46.03   0.25   \n",
       "501  502  Brown-Forman Corporation Class B   BF.B  0.01%   33.15   0.12   \n",
       "502  503          News Corporation Class B    NWS  0.01%   31.33   0.21   \n",
       "503  504                  Symbol Not Found  MRP-W  0.00%     NaN    NaN   \n",
       "\n",
       "        % Chg                  Sector  \n",
       "0     (0.10%)              Technology  \n",
       "1    (-0.08%)              Technology  \n",
       "2     (0.11%)              Technology  \n",
       "3     (0.17%)       Consumer Cyclical  \n",
       "4     (2.08%)  Communication Services  \n",
       "..        ...                     ...  \n",
       "499   (0.60%)      Financial Services  \n",
       "500   (0.55%)  Communication Services  \n",
       "501   (0.36%)                 Unknown  \n",
       "502   (0.67%)  Communication Services  \n",
       "503    (NaN%)                 Unknown  \n",
       "\n",
       "[504 rows x 8 columns]"
      ]
     },
     "metadata": {},
     "output_type": "display_data"
    }
   ],
   "source": [
    "import yfinance as yf\n",
    "sp500_df=pd.read_csv('/Users/LVal18/Documents/GitHub/nu_capstone/data/raw/sp500_stocks.csv')\n",
    "# Function to get sector for a stock symbol\n",
    "def get_sector(symbol):\n",
    "    try:\n",
    "        stock = yf.Ticker(symbol)\n",
    "        return stock.info.get(\"sector\", \"Unknown\")\n",
    "    except Exception as e:\n",
    "        print(f\"Error fetching data for {symbol}: {e}\")\n",
    "        return \"Unknown\"\n",
    "\n",
    "# Add a new column 'sector'\n",
    "sp500_df[\"Sector\"] = sp500_df[\"Symbol\"].apply(get_sector)\n",
    "\n",
    "# Display the updated DataFrame\n",
    "display(sp500_df)"
   ]
  },
  {
   "cell_type": "code",
   "execution_count": null,
   "metadata": {},
   "outputs": [],
   "source": []
  }
 ],
 "metadata": {
  "kernelspec": {
   "display_name": "Python 3",
   "language": "python",
   "name": "python3"
  },
  "language_info": {
   "codemirror_mode": {
    "name": "ipython",
    "version": 3
   },
   "file_extension": ".py",
   "mimetype": "text/x-python",
   "name": "python",
   "nbconvert_exporter": "python",
   "pygments_lexer": "ipython3",
   "version": "3.11.10"
  }
 },
 "nbformat": 4,
 "nbformat_minor": 2
}
